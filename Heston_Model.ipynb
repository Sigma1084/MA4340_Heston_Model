{
 "cells": [
  {
   "cell_type": "markdown",
   "metadata": {},
   "source": [
    "## Imports"
   ]
  },
  {
   "cell_type": "code",
   "execution_count": 20,
   "metadata": {
    "id": "4TokhpXSOk3S"
   },
   "outputs": [],
   "source": [
    "import numpy as np\n",
    "import scipy.stats as ss\n",
    "import matplotlib.pyplot as plt\n",
    "import random"
   ]
  },
  {
   "cell_type": "markdown",
   "metadata": {},
   "source": [
    "## CIR Process"
   ]
  },
  {
   "cell_type": "code",
   "execution_count": null,
   "metadata": {
    "id": "0Vw3U4QrXDRc"
   },
   "outputs": [],
   "source": [
    "np.random.seed(seed=678)\n",
    "\n",
    "N = 500001        # time steps \n",
    "paths = 200      # number of paths \n",
    "T = 3\n",
    "T_vec, dt = np.linspace(0,T,N, retstep=True )\n",
    "\n",
    "# standard parameters\n",
    "kappa = 4\n",
    "theta = 2\n",
    "sigma = 0.5\n",
    "std_asy = np.sqrt( theta * sigma**2 /(2*kappa) )   # asymptotic standard deviation\n",
    "\n",
    "X0 = 2.5\n",
    "X = np.zeros((paths,N))\n",
    "X[:,0] = X0\n",
    "W = ss.norm.rvs( loc=0, scale=np.sqrt(dt), size=(paths,N-1) )\n",
    "\n",
    "for t in range(0,N-1):\n",
    "    X[:,t+1] = np.abs( X[:,t] + kappa*(theta - X[:,t])*dt + sigma * np.sqrt(X[:,t]) * W[:,t] )\n",
    "\n",
    "X_T = X[:,-1]    # values of X at time T\n",
    "X_1 = X[1,:]     # a single path"
   ]
  },
  {
   "cell_type": "code",
   "execution_count": null,
   "metadata": {
    "colab": {
     "base_uri": "https://localhost:8080/",
     "height": 350
    },
    "id": "GCk4PCUUXFLJ",
    "outputId": "228a336f-d7e8-475a-b659-1513ea7cfb5e"
   },
   "outputs": [],
   "source": [
    "plt.figure(figsize=(10,5))\n",
    "plt.plot(T_vec, X_1, label=\"CIR process\")\n",
    "plt.plot(T_vec, theta*np.ones_like(T_vec), label=\"Long term mean\")\n",
    "plt.legend(loc=\"upper right\")\n",
    "plt.title(\"CIR process\")\n",
    "plt.xlabel(\"T\")\n",
    "plt.show()"
   ]
  },
  {
   "cell_type": "markdown",
   "metadata": {},
   "source": [
    "## Heston Model"
   ]
  },
  {
   "cell_type": "code",
   "execution_count": 4,
   "metadata": {
    "id": "Bybl8761Smoi"
   },
   "outputs": [],
   "source": [
    "def heston_price(S_0, K, V_0, kappa, theta, sigma, rho, T):\n",
    "    \"\"\"\n",
    "    Calculates the Option Price using Heston model\n",
    "    \n",
    "    :param S_0: Initial Stock Prince\n",
    "    :param K: Strike Price\n",
    "    :param V_0: Initial Variance is square of Volatility\n",
    "    :param kappa: Mean Reversion Speed\n",
    "    :param theta: Long-run Variance\n",
    "    :param sigma: Volatility of volatility\n",
    "    :param rho: Correlation\n",
    "    :param T: Time to Maturity\n",
    "    :return: Option Price\n",
    "    \"\"\"\n",
    "\n",
    "    random.seed(5000) # Set the random seed\n",
    "    N = 10**2         # Number of small sub-steps (time)\n",
    "    n = 10**4         # Number of Monte carlo paths\n",
    "    dt = T/N          # No. of Time step\n",
    "\n",
    "    # Integrate equations: Euler method, Montecarlo vectorized\n",
    "    V_t = np.ones(n) * V_0\n",
    "    S_t = np.ones(n) * S_0\n",
    "\n",
    "    # Generate Montecarlo paths\n",
    "    for t in range(1, N):\n",
    "        # Random numbers for S_t and V_t\n",
    "        Z_s = np.random.normal(size=n)\n",
    "        Z_v = rho * Z_s + np.sqrt(1 - rho**2) * np.random.normal(size=n)\n",
    "\n",
    "        # Euler integration\n",
    "        V_t = np.maximum(V_t, 0)\n",
    "        S_t = S_t * np.exp( np.sqrt(V_t * dt) * Z_s - V_t * dt / 2)                     # Stock price process\n",
    "        V_t = V_t + kappa * (theta - V_t) * dt + sigma * np.sqrt(V_t * dt) * Z_v        # Volatility process\n",
    "\n",
    "    option_price = np.mean(np.maximum(S_t - K, 0))\n",
    "    return round(option_price,2)\n",
    "\n",
    "heston_vectorized = np.vectorize(heston_price)"
   ]
  },
  {
   "cell_type": "code",
   "execution_count": 5,
   "metadata": {
    "id": "REGG5ws4Z-kc"
   },
   "outputs": [
    {
     "name": "stdout",
     "output_type": "stream",
     "text": [
      "1338.36\n"
     ]
    }
   ],
   "source": [
    "S_0 = 17339         # Initial Stock Price\n",
    "K = 16100           # Strike Price\n",
    "V_0 = 0.01          # Initial volatility\n",
    "kappa = 2           # kappa\n",
    "theta = 0.01        # theta\n",
    "eps = 0.1           # epsilon\n",
    "rho = 0             # correlation co-efficient\n",
    "T = 7/12            # time period\n",
    "\n",
    "V = heston_price(S_0, K, V_0, kappa, theta, eps, rho, T)\n",
    "print(V)"
   ]
  },
  {
   "cell_type": "code",
   "execution_count": 6,
   "metadata": {
    "colab": {
     "base_uri": "https://localhost:8080/"
    },
    "id": "gD1JuNsZUHRn",
    "outputId": "7e041176-d2d7-4f92-ec57-cfb13a8bff9b",
    "scrolled": true
   },
   "outputs": [
    {
     "name": "stdout",
     "output_type": "stream",
     "text": [
      "[1395.86 1387.72 1383.85 1361.96 1361.45 1353.5  1353.2  1363.23 1352.36\n",
      " 1362.75 1352.26 1330.31 1324.18 1364.31 1306.87 1319.63 1317.47 1309.08\n",
      " 1299.68 1304.1 ]\n",
      "Mean Option Price: 1345.1885000000002\n",
      "Root Mean Squared Error: 28.51919937077476\n"
     ]
    }
   ],
   "source": [
    "rhos = np.linspace(-1, 1, 20)\n",
    "option_prices = heston_vectorized(S_0, K, V_0, kappa, theta, eps, rhos, T)\n",
    "print(option_prices)\n",
    "\n",
    "mean_opt = np.mean(option_prices)\n",
    "print(\"Mean Option Price:\", mean_opt)\n",
    "print(\"Root Mean Squared Error:\", np.sqrt(np.average(np.square(option_prices-mean_opt))))"
   ]
  },
  {
   "cell_type": "markdown",
   "metadata": {},
   "source": [
    "### Verification"
   ]
  },
  {
   "cell_type": "code",
   "execution_count": 7,
   "metadata": {},
   "outputs": [
    {
     "data": {
      "image/png": "[encoded data removed]",
      "text/plain": [
       "<Figure size 640x480 with 1 Axes>"
      ]
     },
     "metadata": {},
     "output_type": "display_data"
    }
   ],
   "source": [
    "strike_prices = np.linspace(0, 2*S_0, 100)\n",
    "plt.xlabel(\"Strike Price $K$\")\n",
    "plt.ylabel(\"Cost\")\n",
    "plt.plot(strike_prices, heston_vectorized(S_0, strike_prices, \n",
    "    V_0, kappa, theta, eps, rho, T), label=\"Call Option Price\")\n",
    "plt.plot(strike_prices, [S_0 for _ in strike_prices], label=\"Initial Stock Price\")\n",
    "plt.legend()\n",
    "plt.show()"
   ]
  }
 ],
 "metadata": {
  "colab": {
   "provenance": []
  },
  "kernelspec": {
   "display_name": "Python 3 (ipykernel)",
   "language": "python",
   "name": "python3"
  },
  "language_info": {
   "codemirror_mode": {
    "name": "ipython",
    "version": 3
   },
   "file_extension": ".py",
   "mimetype": "text/x-python",
   "name": "python",
   "nbconvert_exporter": "python",
   "pygments_lexer": "ipython3",
   "version": "3.10.8"
  }
 },
 "nbformat": 4,
 "nbformat_minor": 1
}
